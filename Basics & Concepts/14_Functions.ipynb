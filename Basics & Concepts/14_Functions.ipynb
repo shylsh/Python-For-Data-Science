{
 "cells": [
  {
   "cell_type": "markdown",
   "metadata": {},
   "source": [
    "# **Functions**\n",
    "* Functions are a set of instructions that are combined together, for better execution and readability"
   ]
  },
  {
   "cell_type": "markdown",
   "metadata": {},
   "source": [
    "## Defining functions\n",
    "\n",
    "The def keyword makes the beginning of a function definition.\n",
    "\n",
    "def function_name(parameters):\n",
    "    \"\"\"function docstring (optional)\"\"\"\n",
    "    # function body (statements to execute)\n",
    "    return output_value (optional)"
   ]
  },
  {
   "cell_type": "markdown",
   "metadata": {},
   "source": [
    "## Calling Functions\n",
    "To execute a function's code, you call it by its name followed by parantheses:\n",
    "    function_name(arguments)\n",
    "\n",
    "where,\n",
    "* function_name : The name you assigned to the function during definition.\n",
    "\n",
    "* arguments: A comma-separated list of values that are passed to the function's parameters. These values correspond to the placeholders you defined in the parameters. The number and order of arguments must match teh parameters int he function definition."
   ]
  },
  {
   "cell_type": "markdown",
   "metadata": {},
   "source": [
    "### Basic Function"
   ]
  },
  {
   "cell_type": "code",
   "execution_count": 3,
   "metadata": {},
   "outputs": [
    {
     "name": "stdout",
     "output_type": "stream",
     "text": [
      "The area of rectangle 1 is 2\n",
      "The area of rectangle 2 is 6\n",
      "The area of rectangle 3 is 12\n",
      "The area of rectangle 4 is 20\n",
      "The area of rectangle 5 is 30\n",
      "The area of rectangle 6 is 42\n",
      "The area of rectangle 7 is 56\n",
      "The area of rectangle 8 is 72\n",
      "The area of rectangle 9 is 90\n",
      "The area of rectangle 10 is 110\n"
     ]
    }
   ],
   "source": [
    "# without using a function\n",
    "for i in range(1,11):\n",
    "    length = (i+1)\n",
    "    width = (i)\n",
    "    area = length * width\n",
    "    print(f\"The area of rectangle {i} is {area}\")"
   ]
  },
  {
   "cell_type": "code",
   "execution_count": 7,
   "metadata": {},
   "outputs": [],
   "source": [
    "# With using functions: Step 1 - Defining the function\n",
    "def calculate_area(length, width):\n",
    "    \"\"\"calculate the area of a rectangle\"\"\"\n",
    "    area = length * width\n",
    "    return area"
   ]
  },
  {
   "cell_type": "code",
   "execution_count": 8,
   "metadata": {},
   "outputs": [
    {
     "name": "stdout",
     "output_type": "stream",
     "text": [
      "The rectangle area of 1 is 2\n",
      "The rectangle area of 2 is 6\n",
      "The rectangle area of 3 is 12\n",
      "The rectangle area of 4 is 20\n",
      "The rectangle area of 5 is 30\n",
      "The rectangle area of 6 is 42\n",
      "The rectangle area of 7 is 56\n",
      "The rectangle area of 8 is 72\n",
      "The rectangle area of 9 is 90\n",
      "The rectangle area of 10 is 110\n"
     ]
    }
   ],
   "source": [
    "# With using function : step 2- Calling the function\n",
    "for i in range(1,11):\n",
    "    rectangle_area = calculate_area(i+1,i)\n",
    "    print(f'The rectangle area of {i} is {rectangle_area}')"
   ]
  },
  {
   "cell_type": "markdown",
   "metadata": {},
   "source": [
    "** 1st Variation (using print function )**\n",
    "\n",
    "Since in this example, we just want to print the area of the rectanglese, we do not really need the return statement, and can make-do with the print statement itself inside the function. \n"
   ]
  },
  {
   "cell_type": "code",
   "execution_count": 16,
   "metadata": {},
   "outputs": [],
   "source": [
    "# With using functions(1st alternative): step 1 - Defining the function\n",
    "def calculate_and_print_area(length, width, num):\n",
    "    area = length * width\n",
    "    print(f'The area of rectangle {num} is {area}')"
   ]
  },
  {
   "cell_type": "code",
   "execution_count": 12,
   "metadata": {},
   "outputs": [
    {
     "name": "stdout",
     "output_type": "stream",
     "text": [
      "The area of rectangle 1 is 2\n",
      "The area of rectangle 2 is 6\n",
      "The area of rectangle 3 is 12\n",
      "The area of rectangle 4 is 20\n",
      "The area of rectangle 5 is 30\n",
      "The area of rectangle 6 is 42\n",
      "The area of rectangle 7 is 56\n",
      "The area of rectangle 8 is 72\n",
      "The area of rectangle 9 is 90\n",
      "The area of rectangle 10 is 110\n"
     ]
    }
   ],
   "source": [
    "# with using Functions(1st alternative) step2 - calling the function and printing\n",
    "for i in range(1,11):\n",
    "    calculate_and_print_area(i+1,i, i)"
   ]
  },
  {
   "cell_type": "markdown",
   "metadata": {},
   "source": [
    "### 2nd Variation (Using default Arguments)"
   ]
  },
  {
   "cell_type": "markdown",
   "metadata": {},
   "source": [
    "Let's say you wnat to consider a rectangle by default that's of size (100,2) if nothing is specified about its dimensions."
   ]
  },
  {
   "cell_type": "code",
   "execution_count": 18,
   "metadata": {},
   "outputs": [],
   "source": [
    "# With using Functions(2nd Alternative) : Step 1 Defining the function\n",
    "def calculate_and_print_area(length =100,width=2, i =\"Defalut\"):\n",
    "    \"\"\"Calcualte and prints the area of a rectangle\"\"\"\n",
    "    area = length * width\n",
    "    \n",
    "    print(f'The area of rectangle {i} is {area}')"
   ]
  },
  {
   "cell_type": "code",
   "execution_count": 19,
   "metadata": {},
   "outputs": [
    {
     "name": "stdout",
     "output_type": "stream",
     "text": [
      "The area of rectangle Defalut is 200\n"
     ]
    }
   ],
   "source": [
    "# with using functions(2nd alternative ) Step 2 - calling the function\n",
    "calculate_and_print_area()"
   ]
  }
 ],
 "metadata": {
  "kernelspec": {
   "display_name": "base",
   "language": "python",
   "name": "python3"
  },
  "language_info": {
   "codemirror_mode": {
    "name": "ipython",
    "version": 3
   },
   "file_extension": ".py",
   "mimetype": "text/x-python",
   "name": "python",
   "nbconvert_exporter": "python",
   "pygments_lexer": "ipython3",
   "version": "3.10.13"
  }
 },
 "nbformat": 4,
 "nbformat_minor": 2
}
