{
 "cells": [
  {
   "cell_type": "markdown",
   "metadata": {},
   "source": [
    "# Variable number of arguments\n",
    "\n",
    "In Python, you can use *args and **kwargs within function definitions to handle a variable number of arguments:"
   ]
  },
  {
   "cell_type": "markdown",
   "metadata": {},
   "source": [
    "## **Universal Addition Functions(*args)**\n",
    "\n",
    "*args (for positional arguments):\n",
    "* syntax : def function_name(*args):\n",
    "* Captures any number of positional arguments passed to the function as a tuple named args."
   ]
  },
  {
   "cell_type": "code",
   "execution_count": 1,
   "metadata": {},
   "outputs": [],
   "source": [
    "def add_all(*numbers):\n",
    "    '''Calculate the sum of an arbitrary number of arguments'''\n",
    "    \n",
    "    total = 0\n",
    "    \n",
    "    for num in numbers:\n",
    "        total+=num\n",
    "        \n",
    "    return total"
   ]
  },
  {
   "cell_type": "code",
   "execution_count": 3,
   "metadata": {},
   "outputs": [
    {
     "data": {
      "text/plain": [
       "6"
      ]
     },
     "execution_count": 3,
     "metadata": {},
     "output_type": "execute_result"
    }
   ],
   "source": [
    "result = add_all(1,2,3)\n",
    "result"
   ]
  },
  {
   "cell_type": "code",
   "execution_count": 6,
   "metadata": {},
   "outputs": [],
   "source": [
    "result = add_all(100,200,3040)"
   ]
  },
  {
   "cell_type": "code",
   "execution_count": 7,
   "metadata": {},
   "outputs": [
    {
     "name": "stdout",
     "output_type": "stream",
     "text": [
      "Sum of all numbers: 3340\n"
     ]
    }
   ],
   "source": [
    "print(f'Sum of all numbers: {result}')"
   ]
  },
  {
   "cell_type": "code",
   "execution_count": 8,
   "metadata": {},
   "outputs": [],
   "source": [
    "# why are these posiitonal?\n",
    "def add_all_modified(*numbers):\n",
    "    \"\"\"Calculate the sum of an arbitrary number of arguments.\"\"\"\n",
    "    \n",
    "    total = 0\n",
    "    \n",
    "    for i, num in enumerate(numbers):\n",
    "        if i == 4:\n",
    "            return total\n",
    "        else:\n",
    "            total += num\n",
    "    return total\n",
    "        "
   ]
  },
  {
   "cell_type": "code",
   "execution_count": 10,
   "metadata": {},
   "outputs": [
    {
     "data": {
      "text/plain": [
       "10"
      ]
     },
     "execution_count": 10,
     "metadata": {},
     "output_type": "execute_result"
    }
   ],
   "source": [
    "add_all_modified(1,2,3,4,5,6,7)"
   ]
  },
  {
   "cell_type": "markdown",
   "metadata": {},
   "source": [
    "The function uses * args to capture any number of numerical arguments passed to it. Inside the funciton, numbers becomes a tuple containing all the arguments. The function iterates through the numbers tuple and calculates the sum."
   ]
  },
  {
   "cell_type": "markdown",
   "metadata": {},
   "source": [
    "### Keyword Arguments [**Kwargs]\n",
    "\n",
    "**kwargs (for keyword arguments)\n",
    "\n",
    "* Syntax: def function_name(**kwargs)\n",
    "* Captures any numberr of keyword arguments passed to teh function as a dictionary named kwargs\n",
    "* Keyword arguments allow you to name the data you're providing."
   ]
  },
  {
   "cell_type": "code",
   "execution_count": 13,
   "metadata": {},
   "outputs": [],
   "source": [
    "def greet(**info):\n",
    "    \"\"\"Creates someone with a customizable message based on provided arguments\"\"\"\n",
    "    message = \"Hello\"\n",
    "    \n",
    "    if \"name\" in info:\n",
    "        message += f\", {info['name']}!\"\n",
    "    if 'title' in info:\n",
    "        message += f\" How are you doing today, {info['title']}?\"\n",
    "    print(message)"
   ]
  },
  {
   "cell_type": "code",
   "execution_count": 14,
   "metadata": {},
   "outputs": [
    {
     "name": "stdout",
     "output_type": "stream",
     "text": [
      "Hello\n"
     ]
    }
   ],
   "source": [
    "greet() # Output Hello!"
   ]
  },
  {
   "cell_type": "code",
   "execution_count": 16,
   "metadata": {},
   "outputs": [
    {
     "name": "stdout",
     "output_type": "stream",
     "text": [
      "Hello, Shailesh!\n"
     ]
    }
   ],
   "source": [
    "greet(name = \"Shailesh\")"
   ]
  },
  {
   "cell_type": "code",
   "execution_count": 21,
   "metadata": {},
   "outputs": [
    {
     "name": "stdout",
     "output_type": "stream",
     "text": [
      "Hello, Shailesh! How are you doing today, Shailesh?\n"
     ]
    }
   ],
   "source": [
    "greet(title= 'Shailesh', name =\"Shailesh\")"
   ]
  },
  {
   "cell_type": "markdown",
   "metadata": {},
   "source": [
    "### Combining *args and **kwargs"
   ]
  },
  {
   "cell_type": "code",
   "execution_count": 22,
   "metadata": {},
   "outputs": [],
   "source": [
    "def process_data(*args,**kwargs):\n",
    "    \"\"\"\"Processses data with flexibilith for both positional and keyword arguments.\"\"\"\n",
    "    \n",
    "    # Having data processing logic here, using args for positional data and kwargs for optional data\n",
    "    print(f'Positional arguments: {args}')\n",
    "    \n",
    "    print(f'Keyword arguments : {kwargs}')"
   ]
  },
  {
   "cell_type": "code",
   "execution_count": 24,
   "metadata": {},
   "outputs": [
    {
     "name": "stdout",
     "output_type": "stream",
     "text": [
      "Positional arguments: (1, 2, 3, 4, 5)\n",
      "Keyword arguments : {'y': 'hello'}\n"
     ]
    }
   ],
   "source": [
    "process_data(1,2,3,4,5, y= \"hello\")\n",
    "    # positional arguments :(1,2,3,4,5)\n",
    "    # Keyword arguments : (x, '10', 'hello')"
   ]
  },
  {
   "cell_type": "markdown",
   "metadata": {},
   "source": [
    "* Keyword arguments should always come after positional arguments"
   ]
  },
  {
   "cell_type": "code",
   "execution_count": 26,
   "metadata": {},
   "outputs": [
    {
     "ename": "SyntaxError",
     "evalue": "positional argument follows keyword argument (833123275.py, line 1)",
     "output_type": "error",
     "traceback": [
      "\u001b[1;36m  Cell \u001b[1;32mIn[26], line 1\u001b[1;36m\u001b[0m\n\u001b[1;33m    process_data(x = 'dkjfs', 1,23,4,4,4,5)\u001b[0m\n\u001b[1;37m                                          ^\u001b[0m\n\u001b[1;31mSyntaxError\u001b[0m\u001b[1;31m:\u001b[0m positional argument follows keyword argument\n"
     ]
    }
   ],
   "source": [
    "process_data(x = 'dkjfs', 1,23,4,4,4,5)"
   ]
  }
 ],
 "metadata": {
  "kernelspec": {
   "display_name": "base",
   "language": "python",
   "name": "python3"
  },
  "language_info": {
   "codemirror_mode": {
    "name": "ipython",
    "version": 3
   },
   "file_extension": ".py",
   "mimetype": "text/x-python",
   "name": "python",
   "nbconvert_exporter": "python",
   "pygments_lexer": "ipython3",
   "version": "3.10.13"
  }
 },
 "nbformat": 4,
 "nbformat_minor": 2
}
