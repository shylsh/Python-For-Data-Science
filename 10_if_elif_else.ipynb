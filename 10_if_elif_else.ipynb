{
 "cells": [
  {
   "cell_type": "markdown",
   "metadata": {},
   "source": [
    "### Single Condition : If Condition\n",
    "* If condition allows only elements satisfying the condition to be included.The condition comes towards end of the comprehension."
   ]
  },
  {
   "cell_type": "code",
   "execution_count": 2,
   "metadata": {},
   "outputs": [],
   "source": [
    "numbers = [1,2,3,4,5]"
   ]
  },
  {
   "cell_type": "code",
   "execution_count": 3,
   "metadata": {},
   "outputs": [],
   "source": [
    "# Create a list of natural numbers less than 4\n",
    "# Method without using comprehension\n",
    "positive_numbers = []\n",
    "for number in numbers:\n",
    "    if number <4:\n",
    "        positive_numbers.append(number)"
   ]
  },
  {
   "cell_type": "code",
   "execution_count": 4,
   "metadata": {},
   "outputs": [
    {
     "data": {
      "text/plain": [
       "[1, 2, 3]"
      ]
     },
     "execution_count": 4,
     "metadata": {},
     "output_type": "execute_result"
    }
   ],
   "source": [
    "positive_numbers"
   ]
  },
  {
   "cell_type": "code",
   "execution_count": 5,
   "metadata": {},
   "outputs": [
    {
     "data": {
      "text/plain": [
       "[1, 2, 3]"
      ]
     },
     "execution_count": 5,
     "metadata": {},
     "output_type": "execute_result"
    }
   ],
   "source": [
    "# Method using Comprehension\n",
    "positive_numbers = [number for number in numbers if number< 4]\n",
    "positive_numbers"
   ]
  },
  {
   "cell_type": "markdown",
   "metadata": {},
   "source": [
    "### Set comprehension"
   ]
  },
  {
   "cell_type": "code",
   "execution_count": 6,
   "metadata": {},
   "outputs": [],
   "source": [
    "# Create a set of unique letters excluding vowels from the string\n",
    "letters = 'Hello World'\n",
    "vowels = ('a','e','i','o','u')"
   ]
  },
  {
   "cell_type": "code",
   "execution_count": 7,
   "metadata": {},
   "outputs": [],
   "source": [
    "unique_letters = {letter for letter in letters if letter.isalpha() and letter not in vowels}"
   ]
  },
  {
   "cell_type": "code",
   "execution_count": 8,
   "metadata": {},
   "outputs": [
    {
     "data": {
      "text/plain": [
       "{'H', 'W', 'd', 'l', 'r'}"
      ]
     },
     "execution_count": 8,
     "metadata": {},
     "output_type": "execute_result"
    }
   ],
   "source": [
    "unique_letters"
   ]
  },
  {
   "cell_type": "markdown",
   "metadata": {},
   "source": [
    "### Two Conditions : If Conditions"
   ]
  },
  {
   "cell_type": "markdown",
   "metadata": {},
   "source": [
    "* Multiple if conditions combine multiple conditions using logical operators (and, or , not ). The conditions come towards end of the comprehension."
   ]
  },
  {
   "cell_type": "markdown",
   "metadata": {},
   "source": [
    "#### List Comprehension"
   ]
  },
  {
   "cell_type": "code",
   "execution_count": 9,
   "metadata": {},
   "outputs": [],
   "source": [
    "#Create a list of the square of numbers ( from numbers list) that are divisible by 2, and greater than 2\n",
    "# Method without using comprehension\n",
    "even_squares =[]\n",
    "for number in numbers:\n",
    "    if number > 2 and number % 2 ==0:\n",
    "        even_squares.append(number**2)\n"
   ]
  },
  {
   "cell_type": "code",
   "execution_count": 10,
   "metadata": {},
   "outputs": [
    {
     "data": {
      "text/plain": [
       "[16]"
      ]
     },
     "execution_count": 10,
     "metadata": {},
     "output_type": "execute_result"
    }
   ],
   "source": [
    "even_squares"
   ]
  },
  {
   "cell_type": "code",
   "execution_count": 11,
   "metadata": {},
   "outputs": [],
   "source": [
    "# Method without comprehension - Alternate syntax\n",
    "even_squares =[]\n",
    "for number in numbers:\n",
    "    if number > 2:\n",
    "        if number % 2 == 0:\n",
    "            even_squares.append(number**2)"
   ]
  },
  {
   "cell_type": "code",
   "execution_count": 12,
   "metadata": {},
   "outputs": [
    {
     "data": {
      "text/plain": [
       "[16]"
      ]
     },
     "execution_count": 12,
     "metadata": {},
     "output_type": "execute_result"
    }
   ],
   "source": [
    "even_squares"
   ]
  },
  {
   "cell_type": "code",
   "execution_count": 13,
   "metadata": {},
   "outputs": [
    {
     "data": {
      "text/plain": [
       "[16]"
      ]
     },
     "execution_count": 13,
     "metadata": {},
     "output_type": "execute_result"
    }
   ],
   "source": [
    "# Method using Comprehension - Alternate syntax (less common)\n",
    "even_squares = [number**2 for number in numbers if number %2 == 0 and number > 2]\n",
    "even_squares"
   ]
  },
  {
   "cell_type": "markdown",
   "metadata": {},
   "source": [
    "### Dictionary Comprehensions"
   ]
  },
  {
   "cell_type": "code",
   "execution_count": 14,
   "metadata": {},
   "outputs": [
    {
     "data": {
      "text/plain": [
       "{4: 16}"
      ]
     },
     "execution_count": 14,
     "metadata": {},
     "output_type": "execute_result"
    }
   ],
   "source": [
    "# Create a dictionary using dictionary comprehension\n",
    "even_squares_dict = {number : number ** 2 for number in numbers if number >2 and number % 2 == 0}\n",
    "even_squares_dict"
   ]
  },
  {
   "cell_type": "markdown",
   "metadata": {},
   "source": [
    "### Set Comprehensions"
   ]
  },
  {
   "cell_type": "code",
   "execution_count": 15,
   "metadata": {},
   "outputs": [
    {
     "data": {
      "text/plain": [
       "{16}"
      ]
     },
     "execution_count": 15,
     "metadata": {},
     "output_type": "execute_result"
    }
   ],
   "source": [
    "# Create a set using set comprehensions\n",
    "even_squares_set = {number ** 2 for number in numbers if number > 2 and number % 2 ==0}\n",
    "even_squares_set"
   ]
  },
  {
   "cell_type": "code",
   "execution_count": 16,
   "metadata": {},
   "outputs": [],
   "source": [
    "# Create a set of unique letters excluding vowels fromt the string \n",
    "letters = 'hello world'\n",
    "vowels = ['a','e','i','o','u']"
   ]
  },
  {
   "cell_type": "code",
   "execution_count": 17,
   "metadata": {},
   "outputs": [
    {
     "data": {
      "text/plain": [
       "{'d', 'h', 'l', 'r', 'w'}"
      ]
     },
     "execution_count": 17,
     "metadata": {},
     "output_type": "execute_result"
    }
   ],
   "source": [
    "unique_letters = {letter for letter in letters if letter.isalpha() and letter not in vowels}\n",
    "unique_letters"
   ]
  },
  {
   "cell_type": "markdown",
   "metadata": {},
   "source": [
    "### Two Conditions : If-else Condition"
   ]
  },
  {
   "cell_type": "markdown",
   "metadata": {},
   "source": [
    "if-else condition applies different logic based on the if and else conditions. These conditions are different from just the if conditions, in that they come just post the expression in the comprehension."
   ]
  },
  {
   "cell_type": "code",
   "execution_count": 18,
   "metadata": {},
   "outputs": [],
   "source": [
    "# for each number in numbers list, tag it with 'less than 3' or 'greater than/equal to 3\"\n",
    "#Method without using comprehension\n",
    "number_signs =[]\n",
    "for number in numbers:\n",
    "    if number < 3:\n",
    "        number_signs.append(f'The {number} (less than 3)')\n",
    "    else:\n",
    "        number_signs.append(f'The {number} (greater than/equal to 3)')"
   ]
  },
  {
   "cell_type": "code",
   "execution_count": 19,
   "metadata": {},
   "outputs": [
    {
     "data": {
      "text/plain": [
       "['The 1 (less than 3)',\n",
       " 'The 2 (less than 3)',\n",
       " 'The 3 (greater than/equal to 3)',\n",
       " 'The 4 (greater than/equal to 3)',\n",
       " 'The 5 (greater than/equal to 3)']"
      ]
     },
     "execution_count": 19,
     "metadata": {},
     "output_type": "execute_result"
    }
   ],
   "source": [
    "number_signs"
   ]
  },
  {
   "cell_type": "code",
   "execution_count": 21,
   "metadata": {},
   "outputs": [
    {
     "data": {
      "text/plain": [
       "['The 1 (less than 3)',\n",
       " 'The 2 (less than 3)',\n",
       " 'the 3 (greater/equal to 3)',\n",
       " 'the 4 (greater/equal to 3)',\n",
       " 'the 5 (greater/equal to 3)']"
      ]
     },
     "execution_count": 21,
     "metadata": {},
     "output_type": "execute_result"
    }
   ],
   "source": [
    "# Method with list comprehension\n",
    "number_signs = [f'The {number} (less than 3)' if number <3 else f'the {number} (greater/equal to 3)' for number in numbers]\n",
    "number_signs"
   ]
  },
  {
   "cell_type": "markdown",
   "metadata": {},
   "source": [
    "### Dictionary Comprehensions"
   ]
  },
  {
   "cell_type": "code",
   "execution_count": 25,
   "metadata": {},
   "outputs": [
    {
     "data": {
      "text/plain": [
       "{1: '1 (is less than 3)',\n",
       " 2: '2 (is less than 3)',\n",
       " 3: '3 (is greater/equal to 3)',\n",
       " 4: '4 (is greater/equal to 3)',\n",
       " 5: '5 (is greater/equal to 3)'}"
      ]
     },
     "execution_count": 25,
     "metadata": {},
     "output_type": "execute_result"
    }
   ],
   "source": [
    "# Create a dictionary using dictionary comprehension\n",
    "number_signs_dict = {number : (f'{number} (is less than 3)' if number < 3 else f'{number} (is greater/equal to 3)') for number in numbers} \n",
    "number_signs_dict"
   ]
  },
  {
   "cell_type": "markdown",
   "metadata": {},
   "source": [
    "### More than 2 conditions (using if, else if and else conditions)"
   ]
  },
  {
   "cell_type": "markdown",
   "metadata": {},
   "source": [
    "it is also possible to add multiple conditions (more than 2) within a comprehension"
   ]
  },
  {
   "cell_type": "markdown",
   "metadata": {},
   "source": [
    "### List Comprehension"
   ]
  },
  {
   "cell_type": "code",
   "execution_count": 27,
   "metadata": {},
   "outputs": [
    {
     "data": {
      "text/plain": [
       "['1 (less than 3)',\n",
       " '2 (less than 3)',\n",
       " '3 (is equal to 3)',\n",
       " '4 (greater than 3)',\n",
       " '5 (greater than 3)']"
      ]
     },
     "execution_count": 27,
     "metadata": {},
     "output_type": "execute_result"
    }
   ],
   "source": [
    "# for each number in numbers list, tag it with 'less than 3', 'equal to 3' or' greater than 3'\n",
    "# Method without using comprehension\n",
    "number_signs = []\n",
    "for number in numbers:\n",
    "    if number > 3:\n",
    "        number_signs.append(f'{number} (greater than 3)')\n",
    "    elif number == 3:\n",
    "        number_signs.append(f'{number} (is equal to 3)')\n",
    "    else:\n",
    "        number_signs.append(f'{number} (less than 3)')\n",
    "number_signs"
   ]
  },
  {
   "cell_type": "code",
   "execution_count": 28,
   "metadata": {},
   "outputs": [
    {
     "data": {
      "text/plain": [
       "['1 (is less than 3)',\n",
       " '2 (is less than 3)',\n",
       " '3 (is equal to 3)',\n",
       " '4 (is greater than 3)',\n",
       " '5 (is greater than 3)']"
      ]
     },
     "execution_count": 28,
     "metadata": {},
     "output_type": "execute_result"
    }
   ],
   "source": [
    "# method using comprehension\n",
    "number_signs = [f'{number} (is greater than 3)' if number > 3 else f'{number} (is equal to 3)' \\\n",
    "    if number == 3 else f'{number} (is less than 3)' for number in numbers]\n",
    "number_signs "
   ]
  },
  {
   "cell_type": "markdown",
   "metadata": {},
   "source": [
    "### Dictionary Comprehesion"
   ]
  },
  {
   "cell_type": "code",
   "execution_count": 29,
   "metadata": {},
   "outputs": [
    {
     "data": {
      "text/plain": [
       "{1: '1 (is less than 3)',\n",
       " 2: '2 (is less than 3)',\n",
       " 3: '3 (is equal to 3)',\n",
       " 4: '4 (is greater than 3)',\n",
       " 5: '5 (is greater than 3)'}"
      ]
     },
     "execution_count": 29,
     "metadata": {},
     "output_type": "execute_result"
    }
   ],
   "source": [
    "number_signs_dict = {number : (f'{number} (is greater than 3)' if number > 3 \\\n",
    "    else f'{number} (is equal to 3)' if number == 3 else f'{number} (is less than 3)')\\\n",
    "        for number in numbers}\n",
    "number_signs_dict"
   ]
  }
 ],
 "metadata": {
  "kernelspec": {
   "display_name": "base",
   "language": "python",
   "name": "python3"
  },
  "language_info": {
   "codemirror_mode": {
    "name": "ipython",
    "version": 3
   },
   "file_extension": ".py",
   "mimetype": "text/x-python",
   "name": "python",
   "nbconvert_exporter": "python",
   "pygments_lexer": "ipython3",
   "version": "3.10.13"
  }
 },
 "nbformat": 4,
 "nbformat_minor": 2
}
