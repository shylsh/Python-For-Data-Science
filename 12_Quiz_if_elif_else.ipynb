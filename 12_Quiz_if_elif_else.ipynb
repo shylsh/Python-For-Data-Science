{
 "cells": [
  {
   "cell_type": "markdown",
   "metadata": {},
   "source": [
    "### Exercise 1\n",
    "\n",
    "Write a program that prints years from 1300 to 2000 in gaps of 20.\n",
    "\n",
    "* for multiples of only 4 (not 100), print 'I'm a leap year' instead\n",
    "* for multiples of 100 (not 400), print \"I look like a leap year, but I'm not\"\n",
    "* For multiples of 400, print 'I'm a century leap year'"
   ]
  },
  {
   "cell_type": "code",
   "execution_count": 5,
   "metadata": {},
   "outputs": [
    {
     "name": "stdout",
     "output_type": "stream",
     "text": [
      "1300 - (I look like leap year but I'm not)\n",
      "1320 - (I'm a leap year)\n",
      "1340 - (I'm a leap year)\n",
      "1360 - (I'm a leap year)\n",
      "1380 - (I'm a leap year)\n",
      "1400 - (I look like leap year but I'm not)\n",
      "1420 - (I'm a leap year)\n",
      "1440 - (I'm a leap year)\n",
      "1460 - (I'm a leap year)\n",
      "1480 - (I'm a leap year)\n",
      "1500 - (I look like leap year but I'm not)\n",
      "1520 - (I'm a leap year)\n",
      "1540 - (I'm a leap year)\n",
      "1560 - (I'm a leap year)\n",
      "1580 - (I'm a leap year)\n",
      "1600 - (I'm a century leap year)\n",
      "1620 - (I'm a leap year)\n",
      "1640 - (I'm a leap year)\n",
      "1660 - (I'm a leap year)\n",
      "1680 - (I'm a leap year)\n",
      "1700 - (I look like leap year but I'm not)\n",
      "1720 - (I'm a leap year)\n",
      "1740 - (I'm a leap year)\n",
      "1760 - (I'm a leap year)\n",
      "1780 - (I'm a leap year)\n",
      "1800 - (I look like leap year but I'm not)\n",
      "1820 - (I'm a leap year)\n",
      "1840 - (I'm a leap year)\n",
      "1860 - (I'm a leap year)\n",
      "1880 - (I'm a leap year)\n",
      "1900 - (I look like leap year but I'm not)\n",
      "1920 - (I'm a leap year)\n",
      "1940 - (I'm a leap year)\n",
      "1960 - (I'm a leap year)\n",
      "1980 - (I'm a leap year)\n",
      "2000 - (I'm a century leap year)\n"
     ]
    }
   ],
   "source": [
    "year_list = []\n",
    "\n",
    "for x in range(1300,2001,20):\n",
    "    if x % 4 == 0 and x %100 != 0:\n",
    "        print(f'{x} - (I\\'m a leap year)')\n",
    "    elif x %100 == 0 and x%400 != 0:\n",
    "        print(f'{x} - (I look like leap year but I\\'m not)')\n",
    "    else:\n",
    "        print(f'{x} - (I\\'m a century leap year)')"
   ]
  },
  {
   "cell_type": "code",
   "execution_count": 6,
   "metadata": {},
   "outputs": [
    {
     "name": "stdout",
     "output_type": "stream",
     "text": [
      "1300 - (I look like leap year, but I'm not)\n",
      "1320 - (I am a leap year)\n",
      "1340 - (I am a leap year)\n",
      "1360 - (I am a leap year)\n",
      "1380 - (I am a leap year)\n",
      "1400 - (I look like leap year, but I'm not)\n",
      "1420 - (I am a leap year)\n",
      "1440 - (I am a leap year)\n",
      "1460 - (I am a leap year)\n",
      "1480 - (I am a leap year)\n",
      "1500 - (I look like leap year, but I'm not)\n",
      "1520 - (I am a leap year)\n",
      "1540 - (I am a leap year)\n",
      "1560 - (I am a leap year)\n",
      "1580 - (I am a leap year)\n",
      "1600 - (I look like leap year, but I'm not)\n",
      "1620 - (I am a leap year)\n",
      "1640 - (I am a leap year)\n",
      "1660 - (I am a leap year)\n",
      "1680 - (I am a leap year)\n",
      "1700 - (I look like leap year, but I'm not)\n",
      "1720 - (I am a leap year)\n",
      "1740 - (I am a leap year)\n",
      "1760 - (I am a leap year)\n",
      "1780 - (I am a leap year)\n",
      "1800 - (I look like leap year, but I'm not)\n",
      "1820 - (I am a leap year)\n",
      "1840 - (I am a leap year)\n",
      "1860 - (I am a leap year)\n",
      "1880 - (I am a leap year)\n",
      "1900 - (I look like leap year, but I'm not)\n",
      "1920 - (I am a leap year)\n",
      "1940 - (I am a leap year)\n",
      "1960 - (I am a leap year)\n",
      "1980 - (I am a leap year)\n",
      "2000 - (I look like leap year, but I'm not)\n"
     ]
    }
   ],
   "source": [
    "# cleaner method\n",
    "for year in range(1300,2001,20):\n",
    "    if year % 4 == 0 and year % 100 != 0:\n",
    "        print(f'{year} - (I am a leap year)')\n",
    "    elif year % 100 == 0:\n",
    "        print(f'{year} - (I look like leap year, but I\\'m not)')\n",
    "    else:\n",
    "        print(f'{year} - (I\\'m a century leap year)')\n",
    "        "
   ]
  },
  {
   "cell_type": "markdown",
   "metadata": {},
   "source": [
    "## Exercise 2 - Pattern Printing (for / while loops)\n",
    "print the following pattern using loops"
   ]
  },
  {
   "cell_type": "code",
   "execution_count": 8,
   "metadata": {},
   "outputs": [],
   "source": [
    "# '''\n",
    "\n",
    "# *\n",
    "# **\n",
    "# ***\n",
    "# ****\n",
    "# *****\n",
    "# +\n",
    "# ++\n",
    "# +++\n",
    "# ++++\n",
    "# +++++\n",
    "\n",
    "\n",
    "# '''"
   ]
  },
  {
   "cell_type": "code",
   "execution_count": 10,
   "metadata": {},
   "outputs": [],
   "source": [
    "# Define a tuple of symbol to print\n",
    "symb_is = ('*','+')\n",
    "# Define number of rows for each symbol\n",
    "num_rows = 5"
   ]
  },
  {
   "cell_type": "code",
   "execution_count": 11,
   "metadata": {},
   "outputs": [
    {
     "name": "stdout",
     "output_type": "stream",
     "text": [
      "*\n",
      "**\n",
      "***\n",
      "****\n",
      "*****\n",
      "+\n",
      "++\n",
      "+++\n",
      "++++\n",
      "+++++\n"
     ]
    }
   ],
   "source": [
    "# First method to solve \n",
    "for i in range(num_rows):\n",
    "    print(symb_is[0]* (i+1))\n",
    "for i in range(num_rows):\n",
    "    print(symb_is[1] * (i+1))\n",
    "    "
   ]
  },
  {
   "cell_type": "code",
   "execution_count": 13,
   "metadata": {},
   "outputs": [
    {
     "name": "stdout",
     "output_type": "stream",
     "text": [
      "*\n",
      "**\n",
      "***\n",
      "****\n",
      "*****\n",
      "+\n",
      "++\n",
      "+++\n",
      "++++\n",
      "+++++\n"
     ]
    }
   ],
   "source": [
    "# Second method to solve - hardcoding \n",
    "for i in range(num_rows*len(symb_is)):\n",
    "    if i < 5:\n",
    "        print(symb_is[0]* (i+1))\n",
    "    else:\n",
    "        print(symb_is[1]* (i%5 +1))"
   ]
  },
  {
   "cell_type": "code",
   "execution_count": 14,
   "metadata": {},
   "outputs": [
    {
     "name": "stdout",
     "output_type": "stream",
     "text": [
      "*\n",
      "**\n",
      "***\n",
      "****\n",
      "*****\n",
      "+\n",
      "++\n",
      "+++\n",
      "++++\n",
      "+++++\n"
     ]
    }
   ],
   "source": [
    "# second method to solve = slighty modified(no hardcoding)\n",
    "for i in range(num_rows * len(symb_is)):\n",
    "    print(symb_is[i//5] * (i%5 +1))"
   ]
  },
  {
   "cell_type": "markdown",
   "metadata": {},
   "source": [
    "### Exercise 3 - Word Count(Dictionary Comprehension)\n",
    "Create a dictionary where keys are words and the values are the occurencces\n",
    "\n",
    "Harry pushed the heavy portrait aside and stepped into a room he'd never seen before. It was octagonal and filled with a thousand twinkling candles that created a magical, starry atmosphere. A long table filled the room, at which hundreds of witches and wizards were already seated, their faces illuminated by the flickering candlelight. Harry could hear the murmur of a thousand conversations and the clinking of glasses.\n"
   ]
  },
  {
   "cell_type": "code",
   "execution_count": 15,
   "metadata": {},
   "outputs": [],
   "source": [
    "text = \"Harry pushed the heavy portrait aside and stepped into a room he'd never seen before. It was octagonal and filled with a thousand twinkling candles that created a magical, starry atmosphere. A long table filled the room, at which hundreds of witches and wizards were already seated, their faces illuminated by the flickering candlelight. Harry could hear the murmur of a thousand conversations and the clinking of glasses.\""
   ]
  },
  {
   "cell_type": "code",
   "execution_count": 16,
   "metadata": {},
   "outputs": [
    {
     "data": {
      "text/plain": [
       "['Harry', 'pushed', 'the', 'heavy']"
      ]
     },
     "execution_count": 16,
     "metadata": {},
     "output_type": "execute_result"
    }
   ],
   "source": [
    "# Get words \n",
    "words = text.split()\n",
    "words[:4]"
   ]
  },
  {
   "cell_type": "code",
   "execution_count": 17,
   "metadata": {},
   "outputs": [
    {
     "data": {
      "text/plain": [
       "{'Harry': 2,\n",
       " 'pushed': 1,\n",
       " 'the': 5,\n",
       " 'heavy': 1,\n",
       " 'portrait': 1,\n",
       " 'aside': 1,\n",
       " 'and': 4,\n",
       " 'stepped': 1,\n",
       " 'into': 1,\n",
       " 'a': 4,\n",
       " 'room': 1,\n",
       " \"he'd\": 1,\n",
       " 'never': 1,\n",
       " 'seen': 1,\n",
       " 'before.': 1,\n",
       " 'It': 1,\n",
       " 'was': 1,\n",
       " 'octagonal': 1,\n",
       " 'filled': 2,\n",
       " 'with': 1,\n",
       " 'thousand': 2,\n",
       " 'twinkling': 1,\n",
       " 'candles': 1,\n",
       " 'that': 1,\n",
       " 'created': 1,\n",
       " 'magical,': 1,\n",
       " 'starry': 1,\n",
       " 'atmosphere.': 1,\n",
       " 'A': 1,\n",
       " 'long': 1,\n",
       " 'table': 1,\n",
       " 'room,': 1,\n",
       " 'at': 1,\n",
       " 'which': 1,\n",
       " 'hundreds': 1,\n",
       " 'of': 3,\n",
       " 'witches': 1,\n",
       " 'wizards': 1,\n",
       " 'were': 1,\n",
       " 'already': 1,\n",
       " 'seated,': 1,\n",
       " 'their': 1,\n",
       " 'faces': 1,\n",
       " 'illuminated': 1,\n",
       " 'by': 1,\n",
       " 'flickering': 1,\n",
       " 'candlelight.': 1,\n",
       " 'could': 1,\n",
       " 'hear': 1,\n",
       " 'murmur': 1,\n",
       " 'conversations': 1,\n",
       " 'clinking': 1,\n",
       " 'glasses.': 1}"
      ]
     },
     "execution_count": 17,
     "metadata": {},
     "output_type": "execute_result"
    }
   ],
   "source": [
    "#  without comprehension\n",
    "dict_comp ={}\n",
    "for word in words:\n",
    "    #Create a new variable for word count\n",
    "    word_count = words.count(word)\n",
    "    \n",
    "    # Update dictionary with word and its count\n",
    "    dict_comp[word] = word_count\n",
    "    \n",
    "#See value of dictionary\n",
    "dict_comp"
   ]
  },
  {
   "cell_type": "code",
   "execution_count": 18,
   "metadata": {},
   "outputs": [
    {
     "data": {
      "text/plain": [
       "{'Harry': 2,\n",
       " 'pushed': 1,\n",
       " 'the': 5,\n",
       " 'heavy': 1,\n",
       " 'portrait': 1,\n",
       " 'aside': 1,\n",
       " 'and': 4,\n",
       " 'stepped': 1,\n",
       " 'into': 1,\n",
       " 'a': 4,\n",
       " 'room': 1,\n",
       " \"he'd\": 1,\n",
       " 'never': 1,\n",
       " 'seen': 1,\n",
       " 'before.': 1,\n",
       " 'It': 1,\n",
       " 'was': 1,\n",
       " 'octagonal': 1,\n",
       " 'filled': 2,\n",
       " 'with': 1,\n",
       " 'thousand': 2,\n",
       " 'twinkling': 1,\n",
       " 'candles': 1,\n",
       " 'that': 1,\n",
       " 'created': 1,\n",
       " 'magical,': 1,\n",
       " 'starry': 1,\n",
       " 'atmosphere.': 1,\n",
       " 'A': 1,\n",
       " 'long': 1,\n",
       " 'table': 1,\n",
       " 'room,': 1,\n",
       " 'at': 1,\n",
       " 'which': 1,\n",
       " 'hundreds': 1,\n",
       " 'of': 3,\n",
       " 'witches': 1,\n",
       " 'wizards': 1,\n",
       " 'were': 1,\n",
       " 'already': 1,\n",
       " 'seated,': 1,\n",
       " 'their': 1,\n",
       " 'faces': 1,\n",
       " 'illuminated': 1,\n",
       " 'by': 1,\n",
       " 'flickering': 1,\n",
       " 'candlelight.': 1,\n",
       " 'could': 1,\n",
       " 'hear': 1,\n",
       " 'murmur': 1,\n",
       " 'conversations': 1,\n",
       " 'clinking': 1,\n",
       " 'glasses.': 1}"
      ]
     },
     "execution_count": 18,
     "metadata": {},
     "output_type": "execute_result"
    }
   ],
   "source": [
    "# With Dictionary comprehension\n",
    "dict_comp = {word: words.count(word) for word in words}\n",
    "dict_comp"
   ]
  }
 ],
 "metadata": {
  "kernelspec": {
   "display_name": "base",
   "language": "python",
   "name": "python3"
  },
  "language_info": {
   "codemirror_mode": {
    "name": "ipython",
    "version": 3
   },
   "file_extension": ".py",
   "mimetype": "text/x-python",
   "name": "python",
   "nbconvert_exporter": "python",
   "pygments_lexer": "ipython3",
   "version": "3.10.13"
  }
 },
 "nbformat": 4,
 "nbformat_minor": 2
}
